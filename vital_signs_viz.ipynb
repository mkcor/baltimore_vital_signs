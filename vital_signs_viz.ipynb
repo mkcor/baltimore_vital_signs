{
 "cells": [
  {
   "cell_type": "markdown",
   "metadata": {},
   "source": [
    "\n",
    "# Baltimore Vital Signs"
   ]
  },
  {
   "cell_type": "markdown",
   "metadata": {},
   "source": [
    "The repo for this notebook lives [here](https://github.com/mkcor/baltimore_vital_signs). It was forked from [https://github.com/jtelszasz/baltimore_vital_signs](https://github.com/jtelszasz/baltimore_vital_signs)."
   ]
  },
  {
   "cell_type": "markdown",
   "metadata": {},
   "source": [
    "The <a href='http://bniajfi.org/indicators/all'>Baltimore Neighborhoods Indicators Alliance - Jacob France Institute (BNIA)</a> at the University of Baltimore has made it their mission to provide a clean, concise set of indicators that illustrate the health and wealth of the city. There are 152 socio-economic indicators in the Vital Signs dataset, and some are reported for multiple years which results in 295 total variables for each of the 56 Baltimore neighborhoods captured.  The indicators are dug up from a number of sources, including the U.S. Census Bureau and its American Community Survey, the FBI and Baltimore Police Department, Baltimore departments of city housing, health, and education."
   ]
  },
  {
   "cell_type": "code",
   "execution_count": 1,
   "metadata": {
    "collapsed": false
   },
   "outputs": [],
   "source": [
    "import glob\n",
    "import numpy as np\n",
    "import pandas as pd\n",
    "import plotly.plotly as py\n",
    "import plotly.graph_objs as pgo"
   ]
  },
  {
   "cell_type": "code",
   "execution_count": 2,
   "metadata": {
    "collapsed": true
   },
   "outputs": [],
   "source": [
    "# Load and combine the datasets.\n",
    "path = 'raw_data/csv'\n",
    "\n",
    "allFiles = glob.glob(path + '/*.csv')\n",
    "df = pd.DataFrame()\n",
    "\n",
    "for i, filename in enumerate(allFiles):\n",
    "    df_file = pd.read_csv(filename)\n",
    "    if i == 0:\n",
    "        df = df_file\n",
    "    else:\n",
    "        df = pd.merge(df, df_file)"
   ]
  },
  {
   "cell_type": "code",
   "execution_count": 3,
   "metadata": {
    "collapsed": false
   },
   "outputs": [
    {
     "name": "stdout",
     "output_type": "stream",
     "text": [
      "296\n",
      "295\n"
     ]
    }
   ],
   "source": [
    "df.index = df['CSA2010']\n",
    "df.drop('CSA2010', inplace=True)\n",
    "print len(df.columns)\n",
    "del df['CSA2010']\n",
    "print len(df.columns)"
   ]
  },
  {
   "cell_type": "code",
   "execution_count": 4,
   "metadata": {
    "collapsed": false
   },
   "outputs": [],
   "source": [
    "cols = df.columns\n",
    "df[cols] = (\n",
    "    df[cols]\n",
    "    # Replace things that aren't numbers and change any empty entries to nan\n",
    "    # (to allow type conversion)\n",
    "    .replace({r'[^0-9\\.]': '', '': np.nan}, regex=True)\n",
    "    # Change to float and convert from %s\n",
    "    .astype(np.float64)\n",
    ")"
   ]
  },
  {
   "cell_type": "code",
   "execution_count": 5,
   "metadata": {
    "collapsed": false
   },
   "outputs": [],
   "source": [
    "# One of the rows is an aggregate Baltimore City.\n",
    "df.drop('Baltimore City', inplace=True)"
   ]
  },
  {
   "cell_type": "markdown",
   "metadata": {},
   "source": [
    "# A Few Exploratory Plots"
   ]
  },
  {
   "cell_type": "markdown",
   "metadata": {},
   "source": [
    "## Percentage of Population White in Each Neighborhood, Sorted"
   ]
  },
  {
   "cell_type": "code",
   "execution_count": 6,
   "metadata": {
    "collapsed": true
   },
   "outputs": [],
   "source": [
    "df_white_sorted = df['pwhite10'].sort(inplace=False)"
   ]
  },
  {
   "cell_type": "code",
   "execution_count": 7,
   "metadata": {
    "collapsed": true
   },
   "outputs": [],
   "source": [
    "# Create a horizontal bar chart with plotly.\n",
    "data = pgo.Data([\n",
    "    pgo.Bar(\n",
    "            y=df_white_sorted.index,\n",
    "            x=df_white_sorted,\n",
    "            orientation='h'\n",
    "    )\n",
    "])"
   ]
  },
  {
   "cell_type": "code",
   "execution_count": 8,
   "metadata": {
    "collapsed": true
   },
   "outputs": [],
   "source": [
    "layout = pgo.Layout(\n",
    "    title='% White',\n",
    "    margin=pgo.Margin(l=300)  # add left margin for y-labels are long\n",
    ")"
   ]
  },
  {
   "cell_type": "code",
   "execution_count": 9,
   "metadata": {
    "collapsed": true
   },
   "outputs": [],
   "source": [
    "fig = pgo.Figure(data=data, layout=layout)"
   ]
  },
  {
   "cell_type": "code",
   "execution_count": 10,
   "metadata": {
    "collapsed": true
   },
   "outputs": [],
   "source": [
    "# Address InsecurePlatformWarning from running Python 2.7.6\n",
    "import urllib3.contrib.pyopenssl\n",
    "urllib3.contrib.pyopenssl.inject_into_urllib3()"
   ]
  },
  {
   "cell_type": "code",
   "execution_count": 11,
   "metadata": {
    "collapsed": false
   },
   "outputs": [
    {
     "data": {
      "text/html": [
       "<iframe id=\"igraph\" scrolling=\"no\" style=\"border:none;\"seamless=\"seamless\" src=\"https://plot.ly/~marianne2/1584.embed?width=675&height=975\" height=\"1000\" width=\"700\"></iframe>"
      ],
      "text/plain": [
       "<plotly.tools.PlotlyDisplay object>"
      ]
     },
     "execution_count": 11,
     "metadata": {},
     "output_type": "execute_result"
    }
   ],
   "source": [
    "py.iplot(fig, filename='baltimore-barh',\n",
    "         width=700, height=1000)  # adjust notebook display width and height"
   ]
  },
  {
   "cell_type": "markdown",
   "metadata": {},
   "source": [
    "## Percentage of Households in Poverty and with Children, Sorted"
   ]
  },
  {
   "cell_type": "code",
   "execution_count": 12,
   "metadata": {
    "collapsed": true
   },
   "outputs": [],
   "source": [
    "df_chpov_sorted = df['hhchpov12'].sort(inplace=False)"
   ]
  },
  {
   "cell_type": "code",
   "execution_count": 13,
   "metadata": {
    "collapsed": true
   },
   "outputs": [],
   "source": [
    "data1 = pgo.Data([\n",
    "    pgo.Bar(\n",
    "            y=df_chpov_sorted.index,\n",
    "            x=df_chpov_sorted,\n",
    "            orientation='h'\n",
    "    )\n",
    "])"
   ]
  },
  {
   "cell_type": "code",
   "execution_count": 14,
   "metadata": {
    "collapsed": true
   },
   "outputs": [],
   "source": [
    "# Specify some layout attributes.\n",
    "layout1 = pgo.Layout(\n",
    "    title='% HH w. Children in Poverty',\n",
    "    margin=pgo.Margin(l=300)  # add left margin for y-labels are long\n",
    ")"
   ]
  },
  {
   "cell_type": "code",
   "execution_count": 15,
   "metadata": {
    "collapsed": true
   },
   "outputs": [],
   "source": [
    "fig1 = pgo.Figure(data=data1, layout=layout1)"
   ]
  },
  {
   "cell_type": "code",
   "execution_count": 16,
   "metadata": {
    "collapsed": false
   },
   "outputs": [
    {
     "data": {
      "text/html": [
       "<iframe id=\"igraph\" scrolling=\"no\" style=\"border:none;\"seamless=\"seamless\" src=\"https://plot.ly/~marianne2/1603.embed?width=675&height=975\" height=\"1000\" width=\"700\"></iframe>"
      ],
      "text/plain": [
       "<plotly.tools.PlotlyDisplay object>"
      ]
     },
     "execution_count": 16,
     "metadata": {},
     "output_type": "execute_result"
    }
   ],
   "source": [
    "py.iplot(fig1, filename='baltimore-hh-pov', width=700, height=1000)"
   ]
  },
  {
   "cell_type": "markdown",
   "metadata": {},
   "source": [
    "## Percentage Households in Poverty with Children vs Percentage Population White (per Neighborhood)"
   ]
  },
  {
   "cell_type": "markdown",
   "metadata": {},
   "source": [
    "### Bubbles Sized by Juvenile Population (per Neighborhood)"
   ]
  },
  {
   "cell_type": "code",
   "execution_count": 17,
   "metadata": {
    "collapsed": true
   },
   "outputs": [],
   "source": [
    "# Juvenile population (age 10 to 18)\n",
    "juv_pop = df['tpop10'] * df['age18_10'] / 100"
   ]
  },
  {
   "cell_type": "code",
   "execution_count": 18,
   "metadata": {
    "collapsed": false
   },
   "outputs": [],
   "source": [
    "# Display this information in hover box.\n",
    "hover_text = zip(juv_pop.index, np.around(juv_pop, 2))"
   ]
  },
  {
   "cell_type": "code",
   "execution_count": 19,
   "metadata": {
    "collapsed": false
   },
   "outputs": [],
   "source": [
    "# Represent a third dimension (size).\n",
    "data2 = pgo.Data([\n",
    "    pgo.Scatter(\n",
    "            x=df['pwhite10'],\n",
    "            y=df['hhchpov12'],\n",
    "            mode='markers',\n",
    "            marker=pgo.Marker(size=juv_pop,\n",
    "                              sizemode='area',\n",
    "                              sizeref=juv_pop.max()/600,\n",
    "                              opacity=0.4,\n",
    "                              color='blue'),\n",
    "            text=hover_text\n",
    "    )\n",
    "])"
   ]
  },
  {
   "cell_type": "code",
   "execution_count": 20,
   "metadata": {
    "collapsed": false
   },
   "outputs": [],
   "source": [
    "layout2 = pgo.Layout(\n",
    "    title='Baltimore: Too Many Non-White Kids in Poverty',\n",
    "    xaxis=pgo.XAxis(title='% Population White (2010)',\n",
    "                    range=[-5, 100],\n",
    "                    showgrid=False,\n",
    "                    zeroline=False),\n",
    "    yaxis=pgo.YAxis(title='% HH w. Children in Poverty (2012)',\n",
    "                    range=[-5, 100],\n",
    "                    showgrid=False,\n",
    "                    zeroline = False),\n",
    "    hovermode='closest'\n",
    ")"
   ]
  },
  {
   "cell_type": "code",
   "execution_count": 21,
   "metadata": {
    "collapsed": true
   },
   "outputs": [],
   "source": [
    "fig2 = pgo.Figure(data=data2, layout=layout2)"
   ]
  },
  {
   "cell_type": "code",
   "execution_count": 22,
   "metadata": {
    "collapsed": false
   },
   "outputs": [
    {
     "data": {
      "text/html": [
       "<iframe id=\"igraph\" scrolling=\"no\" style=\"border:none;\"seamless=\"seamless\" src=\"https://plot.ly/~marianne2/1604.embed\" height=\"525\" width=\"100%\"></iframe>"
      ],
      "text/plain": [
       "<plotly.tools.PlotlyDisplay object>"
      ]
     },
     "execution_count": 22,
     "metadata": {},
     "output_type": "execute_result"
    }
   ],
   "source": [
    "py.iplot(fig2, filename='baltimore-bubble-chart')"
   ]
  },
  {
   "cell_type": "markdown",
   "metadata": {},
   "source": [
    "## Percentage of Households in Poverty vs Ethnicity's Percentage of Population"
   ]
  },
  {
   "cell_type": "markdown",
   "metadata": {},
   "source": [
    "Let's do this chart using matplotlib for a change."
   ]
  },
  {
   "cell_type": "code",
   "execution_count": 23,
   "metadata": {
    "collapsed": true
   },
   "outputs": [],
   "source": [
    "import matplotlib.pyplot as plt"
   ]
  },
  {
   "cell_type": "code",
   "execution_count": 24,
   "metadata": {
    "collapsed": false
   },
   "outputs": [
    {
     "data": {
      "text/plain": [
       "<matplotlib.text.Text at 0x7f5599590710>"
      ]
     },
     "execution_count": 24,
     "metadata": {},
     "output_type": "execute_result"
    }
   ],
   "source": [
    "mpl_fig, ax = plt.subplots()\n",
    "\n",
    "size = 100\n",
    "alpha = 0.5\n",
    "fontsize = 16\n",
    "\n",
    "ax.scatter(df['phisp10'], df['hhpov12'], c='r', alpha=alpha, s=size)\n",
    "ax.scatter(df['paa10'], df['hhpov12'], c='c', alpha=alpha, s=size)\n",
    "ax.legend(['Hispanic', 'Black'], fontsize=12)\n",
    "\n",
    "# Turn off square border around plot.\n",
    "ax.spines['top'].set_visible(False)\n",
    "ax.spines['right'].set_visible(False)\n",
    "ax.spines['bottom'].set_visible(False)\n",
    "ax.spines['left'].set_visible(False)\n",
    "\n",
    "# Turn off ticks.\n",
    "ax.tick_params(axis=\"both\", which=\"both\", bottom=\"off\", top=\"off\",\n",
    "               labelbottom=\"on\", left=\"off\", right=\"off\", labelleft=\"on\",\n",
    "               labelsize=16)\n",
    "\n",
    "ax.set_ylim(-5, 60)\n",
    "ax.set_xlim(-5, 100)\n",
    "\n",
    "ax.set_ylabel('% HH in Poverty', fontsize=fontsize)\n",
    "ax.set_xlabel('% Population', fontsize=fontsize)"
   ]
  },
  {
   "cell_type": "markdown",
   "metadata": {},
   "source": [
    "Matplotlib code is very long... But sometimes you have existing matplotlib code, right? The good news is, plotly can eat it! "
   ]
  },
  {
   "cell_type": "code",
   "execution_count": 25,
   "metadata": {
    "collapsed": false
   },
   "outputs": [
    {
     "name": "stderr",
     "output_type": "stream",
     "text": [
      "/home/marianne/plotly/venvs/baltimore-nb/lib/python2.7/site-packages/plotly/matplotlylib/renderer.py:443: UserWarning:\n",
      "\n",
      "Dang! That path collection is out of this world. I totally don't know what to do with it yet! Plotly can only import path collections linked to 'data' coordinates\n",
      "\n",
      "/home/marianne/plotly/venvs/baltimore-nb/lib/python2.7/site-packages/plotly/matplotlylib/renderer.py:479: UserWarning:\n",
      "\n",
      "I found a path object that I don't think is part of a bar chart. Ignoring.\n",
      "\n"
     ]
    },
    {
     "data": {
      "text/html": [
       "<iframe id=\"igraph\" scrolling=\"no\" style=\"border:none;\"seamless=\"seamless\" src=\"https://plot.ly/~marianne2/1605.embed\" height=\"525\" width=\"100%\"></iframe>"
      ],
      "text/plain": [
       "<plotly.tools.PlotlyDisplay object>"
      ]
     },
     "execution_count": 25,
     "metadata": {},
     "output_type": "execute_result"
    }
   ],
   "source": [
    "py.iplot_mpl(mpl_fig, filename='baltimore-poverty')"
   ]
  },
  {
   "cell_type": "markdown",
   "metadata": {},
   "source": [
    "So, at the moment, matplotlib legends do not fully convert to plotly legends (please refer to our [user guide](https://plot.ly/python/matplotlib-to-plotly-tutorial/#Careful,-matplotlib-is-not-perfect-%28yet%29)). Let's tweak this now."
   ]
  },
  {
   "cell_type": "code",
   "execution_count": 26,
   "metadata": {
    "collapsed": true
   },
   "outputs": [],
   "source": [
    "import plotly.tools as tls"
   ]
  },
  {
   "cell_type": "code",
   "execution_count": 27,
   "metadata": {
    "collapsed": false
   },
   "outputs": [],
   "source": [
    "# Convert mpl fig object to plotly fig object, resize to plotly's default.\n",
    "py_fig = tls.mpl_to_plotly(mpl_fig, resize=True)"
   ]
  },
  {
   "cell_type": "code",
   "execution_count": 28,
   "metadata": {
    "collapsed": false
   },
   "outputs": [],
   "source": [
    "# Give each trace a name to appear in legend.\n",
    "py_fig['data'][0]['name'] = py_fig['layout']['annotations'][0]['text']\n",
    "py_fig['data'][1]['name'] = py_fig['layout']['annotations'][1]['text']"
   ]
  },
  {
   "cell_type": "code",
   "execution_count": 29,
   "metadata": {
    "collapsed": false
   },
   "outputs": [
    {
     "data": {
      "text/plain": [
       "[{'align': 'left',\n",
       "  'font': {'color': '#000000', 'size': 12.0},\n",
       "  'opacity': 1,\n",
       "  'showarrow': False,\n",
       "  'text': 'Hispanic',\n",
       "  'x': 0.86542338709677413,\n",
       "  'xanchor': 'left',\n",
       "  'xref': 'paper',\n",
       "  'y': 0.94025933721934374,\n",
       "  'yanchor': 'bottom',\n",
       "  'yref': 'paper'},\n",
       " {'align': 'left',\n",
       "  'font': {'color': '#000000', 'size': 12.0},\n",
       "  'opacity': 1,\n",
       "  'showarrow': False,\n",
       "  'text': 'Black',\n",
       "  'x': 0.86542338709677413,\n",
       "  'xanchor': 'left',\n",
       "  'xref': 'paper',\n",
       "  'y': 0.88657932138744955,\n",
       "  'yanchor': 'bottom',\n",
       "  'yref': 'paper'}]"
      ]
     },
     "execution_count": 29,
     "metadata": {},
     "output_type": "execute_result"
    }
   ],
   "source": [
    "# Delete misplaced legend annotations. \n",
    "py_fig['layout'].pop('annotations', None)"
   ]
  },
  {
   "cell_type": "code",
   "execution_count": 30,
   "metadata": {
    "collapsed": true
   },
   "outputs": [],
   "source": [
    "# Add legend, place it at the top right corner of the plot.\n",
    "py_fig['layout'].update(\n",
    "    showlegend=True,\n",
    "    legend=pgo.Legend(\n",
    "        x=1,\n",
    "        y=1\n",
    "    )\n",
    ")"
   ]
  },
  {
   "cell_type": "code",
   "execution_count": 31,
   "metadata": {
    "collapsed": false
   },
   "outputs": [
    {
     "data": {
      "text/html": [
       "<iframe id=\"igraph\" scrolling=\"no\" style=\"border:none;\"seamless=\"seamless\" src=\"https://plot.ly/~marianne2/1605.embed\" height=\"525\" width=\"100%\"></iframe>"
      ],
      "text/plain": [
       "<plotly.tools.PlotlyDisplay object>"
      ]
     },
     "execution_count": 31,
     "metadata": {},
     "output_type": "execute_result"
    }
   ],
   "source": [
    "# Send updated figure object to Plotly, show result in notebook.\n",
    "py.iplot(py_fig, filename='baltimore-poverty')"
   ]
  },
  {
   "cell_type": "markdown",
   "metadata": {},
   "source": [
    "Hispanic communities are smaller fractions of neighborhood populations."
   ]
  },
  {
   "cell_type": "markdown",
   "metadata": {},
   "source": [
    "# Principal Component Analysis"
   ]
  },
  {
   "cell_type": "markdown",
   "metadata": {},
   "source": [
    "Read this [post](http://www.thetrainingset.com/articles/A-City-Divided-In-N-Dimensions) at The Training Set for purpose of this analysis."
   ]
  },
  {
   "cell_type": "code",
   "execution_count": 32,
   "metadata": {
    "collapsed": false
   },
   "outputs": [],
   "source": [
    "from sklearn.decomposition import PCA\n",
    "from sklearn.preprocessing import StandardScaler"
   ]
  },
  {
   "cell_type": "code",
   "execution_count": 45,
   "metadata": {
    "collapsed": false
   },
   "outputs": [],
   "source": [
    "X = np.array(df)\n",
    "scaler = StandardScaler()\n",
    "X_scaled = scaler.fit_transform(X)"
   ]
  },
  {
   "cell_type": "code",
   "execution_count": 46,
   "metadata": {
    "collapsed": false
   },
   "outputs": [
    {
     "data": {
      "text/plain": [
       "PCA(copy=True, n_components=None, whiten=False)"
      ]
     },
     "execution_count": 46,
     "metadata": {},
     "output_type": "execute_result"
    }
   ],
   "source": [
    "pca = PCA()\n",
    "pca.fit(X_scaled)"
   ]
  },
  {
   "cell_type": "code",
   "execution_count": 47,
   "metadata": {
    "collapsed": false
   },
   "outputs": [
    {
     "data": {
      "text/plain": [
       "55"
      ]
     },
     "execution_count": 47,
     "metadata": {},
     "output_type": "execute_result"
    }
   ],
   "source": [
    "len(pca.components_)"
   ]
  },
  {
   "cell_type": "markdown",
   "metadata": {},
   "source": [
    "55 dimensions (or components, or axes) were used in the Principal Component Analysis."
   ]
  },
  {
   "cell_type": "code",
   "execution_count": 48,
   "metadata": {
    "collapsed": false
   },
   "outputs": [
    {
     "name": "stdout",
     "output_type": "stream",
     "text": [
      "Explained Variance Ratio =  0.483937328909\n"
     ]
    }
   ],
   "source": [
    "print 'Explained Variance Ratio = ', sum(pca.explained_variance_ratio_[: 2])"
   ]
  },
  {
   "cell_type": "markdown",
   "metadata": {},
   "source": [
    "We can see that almost half (~48%) of the total variance comes from only two dimensions (i.e., the first two principal components). Let's visualize the relative contribution of all components."
   ]
  },
  {
   "cell_type": "code",
   "execution_count": 49,
   "metadata": {
    "collapsed": true
   },
   "outputs": [],
   "source": [
    "data3 = pgo.Data([\n",
    "    pgo.Bar(\n",
    "            y=pca.explained_variance_ratio_,\n",
    "    )\n",
    "])"
   ]
  },
  {
   "cell_type": "code",
   "execution_count": 50,
   "metadata": {
    "collapsed": false
   },
   "outputs": [
    {
     "data": {
      "text/html": [
       "<iframe id=\"igraph\" scrolling=\"no\" style=\"border:none;\"seamless=\"seamless\" src=\"https://plot.ly/~marianne2/1606.embed\" height=\"525\" width=\"100%\"></iframe>"
      ],
      "text/plain": [
       "<plotly.tools.PlotlyDisplay object>"
      ]
     },
     "execution_count": 50,
     "metadata": {},
     "output_type": "execute_result"
    }
   ],
   "source": [
    "py.iplot(data3, filename=\"baltimore-principal-dimensions\")"
   ]
  },
  {
   "cell_type": "markdown",
   "metadata": {},
   "source": [
    "Let's plot a cumulative version of this, to see how many dimensions are needed to account for 90% of the total variance."
   ]
  },
  {
   "cell_type": "code",
   "execution_count": 51,
   "metadata": {
    "collapsed": false
   },
   "outputs": [],
   "source": [
    "data4 = pgo.Data([\n",
    "    pgo.Scatter(\n",
    "            y=np.cumsum(pca.explained_variance_ratio_),\n",
    "    )\n",
    "])"
   ]
  },
  {
   "cell_type": "code",
   "execution_count": 52,
   "metadata": {
    "collapsed": false
   },
   "outputs": [
    {
     "data": {
      "text/html": [
       "<iframe id=\"igraph\" scrolling=\"no\" style=\"border:none;\"seamless=\"seamless\" src=\"https://plot.ly/~marianne2/1607.embed\" height=\"525\" width=\"100%\"></iframe>"
      ],
      "text/plain": [
       "<plotly.tools.PlotlyDisplay object>"
      ]
     },
     "execution_count": 52,
     "metadata": {},
     "output_type": "execute_result"
    }
   ],
   "source": [
    "py.iplot(data4, filename='baltimore-pca-cumulative')"
   ]
  },
  {
   "cell_type": "markdown",
   "metadata": {
    "collapsed": false
   },
   "source": [
    "So we need about 20 dimensions to explain ~90% of the total variance."
   ]
  },
  {
   "cell_type": "markdown",
   "metadata": {},
   "source": [
    "Let's focus on the 2 principal dimensions, so it's easy to plot them in the (x, y) plane."
   ]
  },
  {
   "cell_type": "code",
   "execution_count": 41,
   "metadata": {
    "collapsed": false
   },
   "outputs": [],
   "source": [
    "pca.n_components = 2\n",
    "X_reduced = pca.fit_transform(X_scaled)\n",
    "df_X_reduced = pd.DataFrame(X_reduced, index=df.index)"
   ]
  },
  {
   "cell_type": "code",
   "execution_count": 42,
   "metadata": {
    "collapsed": false
   },
   "outputs": [],
   "source": [
    "trace = pgo.Scatter(x=df_X_reduced[0],\n",
    "                    y=df_X_reduced[1],\n",
    "                    text=df.index,\n",
    "                    mode='markers',\n",
    "                    # Size by total population of each neighborhood. \n",
    "                    marker=pgo.Marker(size=df['tpop10'],\n",
    "                                      sizemode='diameter',\n",
    "                                      sizeref=df['tpop10'].max()/50,\n",
    "                                      opacity=0.5)\n",
    ")\n",
    "\n",
    "data5 = pgo.Data([trace])"
   ]
  },
  {
   "cell_type": "code",
   "execution_count": 43,
   "metadata": {
    "collapsed": false
   },
   "outputs": [],
   "source": [
    "layout5 = pgo.Layout(title='Baltimore Vital Signs (PCA)',\n",
    "                     xaxis=pgo.XAxis(showgrid=False,\n",
    "                                     zeroline=False,\n",
    "                                     showticklabels=False),\n",
    "                     yaxis=pgo.YAxis(showgrid=False,\n",
    "                                     zeroline=False,\n",
    "                                     showticklabels=False),\n",
    "                     hovermode='closest'\n",
    ")"
   ]
  },
  {
   "cell_type": "code",
   "execution_count": 44,
   "metadata": {
    "collapsed": false
   },
   "outputs": [
    {
     "data": {
      "text/html": [
       "<iframe id=\"igraph\" scrolling=\"no\" style=\"border:none;\"seamless=\"seamless\" src=\"https://plot.ly/~marianne2/1608.embed\" height=\"525\" width=\"100%\"></iframe>"
      ],
      "text/plain": [
       "<plotly.tools.PlotlyDisplay object>"
      ]
     },
     "execution_count": 44,
     "metadata": {},
     "output_type": "execute_result"
    }
   ],
   "source": [
    "fig5 = pgo.Figure(data=data5, layout=layout5)\n",
    "py.iplot(fig5, filename='baltimore-2dim')"
   ]
  },
  {
   "cell_type": "markdown",
   "metadata": {},
   "source": [
    "We have reduced a high-dimensional problem to a simple model. We can visualize it in 2 dimensions. Neighborhoods which lie closer to one another are more similar (with respect to these 'vital signs', i.e., socio-economic indicators). Downtown seems very special!"
   ]
  },
  {
   "cell_type": "markdown",
   "metadata": {},
   "source": [
    "# K-means Clustering"
   ]
  },
  {
   "cell_type": "code",
   "execution_count": 40,
   "metadata": {
    "collapsed": false
   },
   "outputs": [],
   "source": [
    "from sklearn.cluster import KMeans\n",
    "\n",
    "#reduced_data = PCA(n_components=2).fit_transform(data)\n",
    "def cluster(n_clusters):\n",
    "    kmeans = KMeans(n_clusters=n_clusters)\n",
    "    kmeans.fit(X_reduced)\n",
    "    Z = kmeans.predict(X_reduced)\n",
    "    return kmeans, Z"
   ]
  },
  {
   "cell_type": "markdown",
   "metadata": {},
   "source": [
    "Since the number of clusters assigned is a manual input, we can get a feel for an appropriate number of clusters by plotting the inertia as a function of number of clusters."
   ]
  },
  {
   "cell_type": "code",
   "execution_count": 42,
   "metadata": {
    "collapsed": false
   },
   "outputs": [
    {
     "data": {
      "image/png": "[encoded data removed]",
      "text/plain": [
       "<matplotlib.figure.Figure at 0x10800ec50>"
      ]
     },
     "metadata": {},
     "output_type": "display_data"
    }
   ],
   "source": [
    "max_clusters = len(df)\n",
    "\n",
    "inertias = zeros(max_clusters)\n",
    "\n",
    "for i in range(1,max_clusters):\n",
    "        kmeans, Z = cluster(i)\n",
    "        inertias[i] = kmeans.inertia_\n",
    "\n",
    "fig = plt.figure(figsize=[6,6])\n",
    "ax1 = plt.subplot(1,1,1)\n",
    "plot(inertias,marker='.')\n",
    "xlabel('Number of Clusters')\n",
    "ylabel('Inertia')\n",
    "#xlim([1,14])\n",
    "plt.show()"
   ]
  },
  {
   "cell_type": "markdown",
   "metadata": {},
   "source": [
    "Below is what the k-means clustering looks like for 7 clusters."
   ]
  },
  {
   "cell_type": "code",
   "execution_count": 11,
   "metadata": {
    "collapsed": false
   },
   "outputs": [
    {
     "data": {
      "image/png": "[encoded data removed]",
      "text/plain": [
       "<matplotlib.figure.Figure at 0x1101b6410>"
      ]
     },
     "metadata": {},
     "output_type": "display_data"
    }
   ],
   "source": [
    "n_clusters = 7\n",
    "model, Z = cluster(n_clusters)\n",
    "\n",
    "fig = plt.figure(figsize=[10,10])\n",
    "ax = plt.subplot(1,1,1)\n",
    "plt.scatter(df_X_reduced[0], df_X_reduced[1], c=Z, marker='o', alpha=.5, s=200)\n",
    "#xlim([-7,7])\n",
    "#ylim([-10,15])\n",
    "ii=0\n",
    "for i,j in zip(df_X_reduced[0],df_X_reduced[1]):\n",
    "    ax.annotate('%s' %df_X_reduced.ix[ii].name, xy=(i,j), xytext=(10,0), textcoords='offset points', fontsize=12, alpha=1.0)\n",
    "    ii = ii+1\n",
    "plt.show()"
   ]
  },
  {
   "cell_type": "markdown",
   "metadata": {},
   "source": [
    "Again, using Plot.ly for interactivity, bubbles sized by total population in neighborhood."
   ]
  },
  {
   "cell_type": "code",
   "execution_count": 26,
   "metadata": {
    "collapsed": false
   },
   "outputs": [
    {
     "data": {
      "text/html": [
       "<iframe id=\"igraph\" scrolling=\"no\" style=\"border:none;\"seamless=\"seamless\" src=\"https://plot.ly/~jtelszasz/230.embed\" height=\"525\" width=\"100%\"></iframe>"
      ],
      "text/plain": [
       "<plotly.tools.PlotlyDisplay at 0x1107a0690>"
      ]
     },
     "execution_count": 26,
     "metadata": {},
     "output_type": "execute_result"
    }
   ],
   "source": [
    "n_clusters = 7\n",
    "model, Z = cluster(n_clusters)\n",
    "x_c = model.cluster_centers_[:,0]\n",
    "y_c = model.cluster_centers_[:,1]\n",
    "\n",
    "h=1\n",
    "\n",
    "x = df_X_reduced[0]#.apply(lambda x: x[:-1]).astype(float)\n",
    "y = df_X_reduced[1]#.apply(lambda x: x[:-1]).astype(float)\n",
    "xscale = 22\n",
    "yscale = 10\n",
    "#schoolage_pop = df['tpop10'] * df['age18_10']/100#.apply(lambda x: x[:-1]).astype(float)\n",
    "\n",
    "# Plot the decision boundary. For that, we will asign a color to each\n",
    "x_min, x_max = x.min() + 1, x.max() - 1\n",
    "y_min, y_max = y.min() + 1, y.max() - 1\n",
    "xx, yy = np.meshgrid(np.arange(x_min, x_max, h), np.arange(y_min, y_max, h))\n",
    "Zc = kmeans.predict(np.c_[xx.ravel(), yy.ravel()])\n",
    "# Put the result into a color plot\n",
    "#Z = Z.reshape(xx.shape)\n",
    "#plt.figure(1)\n",
    "#plt.clf()\n",
    "\n",
    "\n",
    "trace1 = Scatter(x=x,\n",
    "                 y=y,\n",
    "                 text = df.index,\n",
    "                 name = '',\n",
    "                 mode = 'markers',\n",
    "                 marker = Marker(size = df['tpop10']/400,\n",
    "                                 sizemode = 'diameter',\n",
    "                                 #sizeref = schoolage_pop.max()/1000,\n",
    "                                 opacity = 0.6,\n",
    "                                 color = Z)\n",
    ")\n",
    "\n",
    "trace2 = Scatter(x=x_c,\n",
    "                 y=y_c,\n",
    "                 mode = 'markers',\n",
    "                 text = '',\n",
    "                 name='',\n",
    "                 marker = Marker(symbol='x',\n",
    "                                 size=15,\n",
    "                                 color = [0,1,2,3,4,5,6])\n",
    ")\n",
    "\n",
    "layout = Layout(\n",
    "    title = 'Baltimore Vital Signs PCA w/ K-Means Clustering <br> Number of Clusters: 7',\n",
    "    xaxis = XAxis(range = [-xscale,xscale],\n",
    "                  title = '',\n",
    "                  showgrid = False,\n",
    "                  showline = False,\n",
    "                  zeroline = False,\n",
    "                  autotick = False,\n",
    "                  showticklabels=False),\n",
    "    yaxis = YAxis(range = [-1*yscale,yscale],\n",
    "                  title = '',\n",
    "                  showgrid = False,\n",
    "                  showline = False,\n",
    "                  zeroline = False,\n",
    "                  autotick = False,\n",
    "                  showticklabels=False),\n",
    "    autosize = False,\n",
    "    width=600,\n",
    "    height=600,\n",
    "    font = Font(size=14),\n",
    "    hovermode = 'closest',\n",
    "    showlegend=False\n",
    ")\n",
    "\n",
    "data = Data([trace1,trace2])\n",
    "fig = Figure(data=data, layout=layout)\n",
    "py.iplot(fig, filename='Baltimore PCA, K-Means Cluster')\n"
   ]
  },
  {
   "cell_type": "code",
   "execution_count": null,
   "metadata": {
    "collapsed": false
   },
   "outputs": [],
   "source": []
  }
 ],
 "metadata": {
  "kernelspec": {
   "display_name": "Python 2",
   "language": "python",
   "name": "python2"
  },
  "language_info": {
   "codemirror_mode": {
    "name": "ipython",
    "version": 2
   },
   "file_extension": ".py",
   "mimetype": "text/x-python",
   "name": "python",
   "nbconvert_exporter": "python",
   "pygments_lexer": "ipython2",
   "version": "2.7.6"
  }
 },
 "nbformat": 4,
 "nbformat_minor": 0
}
